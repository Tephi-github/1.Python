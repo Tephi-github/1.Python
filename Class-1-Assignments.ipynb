{
 "cells": [
  {
   "cell_type": "code",
   "execution_count": 10,
   "metadata": {},
   "outputs": [],
   "source": [
    "lists=['Machine Learning','Neural Networks','Vision','Robotics','Speech Processing','Natural Language Processing']\n",
    "class SubfieldsInAI():\n",
    "        def Subfields():\n",
    "            print(\"Sub-fields in AI are:\")\n",
    "            for ai in lists:\n",
    "                print(ai)"
   ]
  },
  {
   "cell_type": "code",
   "execution_count": 11,
   "metadata": {},
   "outputs": [
    {
     "name": "stdout",
     "output_type": "stream",
     "text": [
      "Sub-fields in AI are:\n",
      "Machine Learning\n",
      "Neural Networks\n",
      "Vision\n",
      "Robotics\n",
      "Speech Processing\n",
      "Natural Language Processing\n"
     ]
    }
   ],
   "source": [
    "SubfieldsInAI.Subfields()"
   ]
  },
  {
   "cell_type": "code",
   "execution_count": 16,
   "metadata": {},
   "outputs": [
    {
     "name": "stdout",
     "output_type": "stream",
     "text": [
      "Enter a number8\n"
     ]
    }
   ],
   "source": [
    "num=int(input(\"Enter a number:\"))\n",
    "class OddEven:\n",
    "    def OddEven():\n",
    "        if(num%2==1):\n",
    "            print(num,\"is odd Number\")\n",
    "        else:\n",
    "            print(num,\"is even number\")"
   ]
  },
  {
   "cell_type": "code",
   "execution_count": 17,
   "metadata": {},
   "outputs": [
    {
     "name": "stdout",
     "output_type": "stream",
     "text": [
      "8 is even number\n"
     ]
    }
   ],
   "source": [
    "OddEven.OddEven()"
   ]
  },
  {
   "cell_type": "code",
   "execution_count": 20,
   "metadata": {},
   "outputs": [
    {
     "name": "stdout",
     "output_type": "stream",
     "text": [
      "Enetr the gender:female\n",
      "Enetr the age:19\n"
     ]
    }
   ],
   "source": [
    "gender=input(\"Enetr the gender:\")\n",
    "age=int(input(\"Enetr the age:\"))\n",
    "class EligibilityForMarriage():\n",
    "    def Eligible():\n",
    "        print(\"Your Gender:\",gender)\n",
    "        print(\"Your Age:\",age)\n",
    "        if(age>18):\n",
    "            print(\"ELIGIBLE\")\n",
    "        else:\n",
    "            print(\"NOT ELIGIBLE\")"
   ]
  },
  {
   "cell_type": "code",
   "execution_count": 21,
   "metadata": {},
   "outputs": [
    {
     "name": "stdout",
     "output_type": "stream",
     "text": [
      "Your Gender: female\n",
      "Your Age: 19\n",
      "ELIGIBLE\n"
     ]
    }
   ],
   "source": [
    "EligibilityForMarriage.Eligible()"
   ]
  },
  {
   "cell_type": "code",
   "execution_count": 22,
   "metadata": {},
   "outputs": [],
   "source": [
    "class FindPercent():\n",
    "    def percentage(s1,s2,s3,s4,s5):\n",
    "        print(\"Subject1=\",s1)\n",
    "        print(\"Subject2=\",s2)\n",
    "        print(\"Subject3=\",s3)\n",
    "        print(\"Subject4=\",s4)\n",
    "        print(\"Subject5=\",s5)\n",
    "        total=s1+s2+s3+s4+s5\n",
    "        print(\"Total:\",total)\n",
    "        percentage=(total/500)*100\n",
    "        print(\"Percentage:\",percentage)"
   ]
  },
  {
   "cell_type": "code",
   "execution_count": 23,
   "metadata": {},
   "outputs": [
    {
     "name": "stdout",
     "output_type": "stream",
     "text": [
      "Subject1= 25\n",
      "Subject2= 34\n",
      "Subject3= 25\n",
      "Subject4= 23\n",
      "Subject5= 23\n",
      "Total: 130\n",
      "Percentage: 26.0\n"
     ]
    }
   ],
   "source": [
    "FindPercent.percentage(25,34,25,23,23)"
   ]
  },
  {
   "cell_type": "code",
   "execution_count": 26,
   "metadata": {},
   "outputs": [],
   "source": [
    "from multipleFunctions import multipleFunction"
   ]
  },
  {
   "cell_type": "code",
   "execution_count": 27,
   "metadata": {},
   "outputs": [
    {
     "name": "stdout",
     "output_type": "stream",
     "text": [
      "Enter the bmi34\n",
      "Enter the BMI Index: 34\n",
      "Very Overweight\n"
     ]
    },
    {
     "data": {
      "text/plain": [
       "'Very Overweight'"
      ]
     },
     "execution_count": 27,
     "metadata": {},
     "output_type": "execute_result"
    }
   ],
   "source": [
    "multipleFunction.bmi()"
   ]
  },
  {
   "cell_type": "code",
   "execution_count": 28,
   "metadata": {},
   "outputs": [
    {
     "name": "stdout",
     "output_type": "stream",
     "text": [
      "Enter a number9\n",
      "9 is odd Number\n"
     ]
    },
    {
     "data": {
      "text/plain": [
       "'odd number'"
      ]
     },
     "execution_count": 28,
     "metadata": {},
     "output_type": "execute_result"
    }
   ],
   "source": [
    "multipleFunction.OddEven()"
   ]
  },
  {
   "cell_type": "code",
   "execution_count": null,
   "metadata": {},
   "outputs": [],
   "source": []
  }
 ],
 "metadata": {
  "kernelspec": {
   "display_name": "Python 3",
   "language": "python",
   "name": "python3"
  },
  "language_info": {
   "codemirror_mode": {
    "name": "ipython",
    "version": 3
   },
   "file_extension": ".py",
   "mimetype": "text/x-python",
   "name": "python",
   "nbconvert_exporter": "python",
   "pygments_lexer": "ipython3",
   "version": "3.7.4"
  }
 },
 "nbformat": 4,
 "nbformat_minor": 2
}
